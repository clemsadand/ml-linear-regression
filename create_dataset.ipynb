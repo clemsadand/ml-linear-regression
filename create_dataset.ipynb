{
 "cells": [
  {
   "cell_type": "code",
   "execution_count": 6,
   "id": "ca61dc5f-0a9b-4b58-bb3d-c892f70fe42f",
   "metadata": {
    "tags": []
   },
   "outputs": [
    {
     "data": {
      "text/plain": [
       "<torch._C.Generator at 0x7f4a11dcccd0>"
      ]
     },
     "execution_count": 6,
     "metadata": {},
     "output_type": "execute_result"
    }
   ],
   "source": [
    "import torch\n",
    "from torch.utils.data import Dataset\n",
    "torch.manual_seed(1)"
   ]
  },
  {
   "cell_type": "code",
   "execution_count": 19,
   "id": "96e3e942-ecb2-4058-a656-2e6e0af6f625",
   "metadata": {
    "tags": []
   },
   "outputs": [],
   "source": [
    "class dset(Dataset):\n",
    "    #Constructor\n",
    "    def __init__(self, length=100, transform = None):\n",
    "        self.len = length\n",
    "        self.x = 12*torch.randn((length))\n",
    "        self.y = 1-2*torch.ones((length))\n",
    "        self.z = torch.exp(self.y-self.x)\n",
    "        self.transform = transform\n",
    "    \n",
    "    #getter\n",
    "    def __getitem__(self, index):\n",
    "        sample = self.x[index], self.y[index], self.z[index]\n",
    "        if self.transform:\n",
    "            sample = transform(sample)\n",
    "        return sample\n",
    "    \n",
    "    #Get len\n",
    "    def __len__(self):\n",
    "        return self.len"
   ]
  },
  {
   "cell_type": "code",
   "execution_count": 20,
   "id": "8b76e06e-a14e-4adb-b059-ea5ddcc8ed58",
   "metadata": {
    "tags": []
   },
   "outputs": [
    {
     "name": "stdout",
     "output_type": "stream",
     "text": [
      "(tensor(7.9362), tensor(-1.), tensor(0.0001))\n",
      "(tensor(3.2031), tensor(-1.), tensor(0.0149))\n",
      "(tensor(0.7401), tensor(-1.), tensor(0.1755))\n",
      "(tensor(7.4558), tensor(-1.), tensor(0.0002))\n",
      "(tensor(-5.4229), tensor(-1.), tensor(83.3352))\n",
      "(tensor(-1.9936), tensor(-1.), tensor(2.7008))\n"
     ]
    }
   ],
   "source": [
    "ds = dset(10)\n",
    "\n",
    "for i in range(6):\n",
    "    print(ds[i])"
   ]
  },
  {
   "cell_type": "code",
   "execution_count": 38,
   "id": "060d1fdd-487c-4a8e-ae57-1654c4dcb98e",
   "metadata": {
    "tags": []
   },
   "outputs": [],
   "source": [
    "class tr1(object):\n",
    "    #getter\n",
    "    def __init__(self, add = -1, mul = -10):\n",
    "        self.add = add\n",
    "        self.mul = mul\n",
    "    \n",
    "    def __call__(self, sample):\n",
    "        x,y,z = sample\n",
    "        x += self.add\n",
    "        z *= self.mul\n",
    "        sample = x,y,z\n",
    "        return sample\n",
    "        "
   ]
  },
  {
   "cell_type": "code",
   "execution_count": 39,
   "id": "8f02145f-6283-4f70-941d-8f61e749412a",
   "metadata": {
    "tags": []
   },
   "outputs": [],
   "source": [
    "transform = tr1()"
   ]
  },
  {
   "cell_type": "code",
   "execution_count": 40,
   "id": "f7a4c2d8-aa62-443d-a381-3b9add0b0413",
   "metadata": {
    "tags": []
   },
   "outputs": [],
   "source": [
    "ds2 = dset(30, transform)"
   ]
  },
  {
   "cell_type": "code",
   "execution_count": 41,
   "id": "2ba0cc55-572d-4a7f-902a-5ba6a18a5c2f",
   "metadata": {
    "tags": []
   },
   "outputs": [
    {
     "name": "stdout",
     "output_type": "stream",
     "text": [
      "(tensor(19.5033), tensor(-1.), tensor(-4.5841e-09))\n",
      "(tensor(8.4953), tensor(-1.), tensor(-0.0003))\n",
      "(tensor(11.2761), tensor(-1.), tensor(-1.7150e-05))\n",
      "(tensor(10.8070), tensor(-1.), tensor(-2.7415e-05))\n",
      "(tensor(9.8662), tensor(-1.), tensor(-7.0238e-05))\n",
      "(tensor(11.5555), tensor(-1.), tensor(-1.2969e-05))\n",
      "(tensor(-7.2472), tensor(-1.), tensor(-1900.2655))\n",
      "(tensor(15.2574), tensor(-1.), tensor(-3.2004e-07))\n",
      "(tensor(5.6958), tensor(-1.), tensor(-0.0045))\n",
      "(tensor(-11.8706), tensor(-1.), tensor(-193528.6875))\n"
     ]
    }
   ],
   "source": [
    "for i in range(10):\n",
    "    print(ds2[i])"
   ]
  },
  {
   "cell_type": "code",
   "execution_count": null,
   "id": "ee4ad9a7-d975-41bc-b12b-735dd096c189",
   "metadata": {},
   "outputs": [],
   "source": []
  }
 ],
 "metadata": {
  "kernelspec": {
   "display_name": "Python",
   "language": "python",
   "name": "conda-env-python-py"
  },
  "language_info": {
   "codemirror_mode": {
    "name": "ipython",
    "version": 3
   },
   "file_extension": ".py",
   "mimetype": "text/x-python",
   "name": "python",
   "nbconvert_exporter": "python",
   "pygments_lexer": "ipython3",
   "version": "3.7.12"
  }
 },
 "nbformat": 4,
 "nbformat_minor": 5
}
